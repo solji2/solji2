{
  "nbformat": 4,
  "nbformat_minor": 0,
  "metadata": {
    "colab": {
      "provenance": [],
      "collapsed_sections": [],
      "authorship_tag": "ABX9TyOb/v8sDsS1cadCkjAxQHgA",
      "include_colab_link": true
    },
    "kernelspec": {
      "name": "python3",
      "display_name": "Python 3"
    },
    "language_info": {
      "name": "python"
    }
  },
  "cells": [
    {
      "cell_type": "markdown",
      "metadata": {
        "id": "view-in-github",
        "colab_type": "text"
      },
      "source": [
        "<a href=\"https://colab.research.google.com/github/solji2/solji2/blob/master/Untitled0.ipynb\" target=\"_parent\"><img src=\"https://colab.research.google.com/assets/colab-badge.svg\" alt=\"Open In Colab\"/></a>"
      ]
    },
    {
      "cell_type": "code",
      "execution_count": 1,
      "metadata": {
        "colab": {
          "base_uri": "https://localhost:8080/"
        },
        "id": "9M7G8mZhe8Hz",
        "outputId": "55e1f298-2e88-4b0c-a1ca-0934442e9578"
      },
      "outputs": [
        {
          "output_type": "stream",
          "name": "stdout",
          "text": [
            "[7, 16, 27, 40, 55, 72, 91, 112, 135]\n"
          ]
        }
      ],
      "source": [
        "xs = [x*x+2*x*3 for x in range(1,10)]#리스트 텀프리헨션\n",
        "print(xs)"
      ]
    },
    {
      "cell_type": "code",
      "source": [
        "import numpy as np"
      ],
      "metadata": {
        "id": "XkEUVMY4j4KB"
      },
      "execution_count": 3,
      "outputs": []
    },
    {
      "cell_type": "code",
      "source": [
        "xarr = np.array([1.1,1.2,1.3,1.4,1.5])\n",
        "yarr = np.array([2.1,2.2,2.3,2.4,2.5])\n",
        "cond = np.array([True,False,True,True,False])"
      ],
      "metadata": {
        "id": "2qg4Plw4ilJl"
      },
      "execution_count": 4,
      "outputs": []
    },
    {
      "cell_type": "code",
      "source": [
        "result = np.where(cond,xarr,yarr)"
      ],
      "metadata": {
        "id": "3FElH0kbj83t"
      },
      "execution_count": 5,
      "outputs": []
    },
    {
      "cell_type": "code",
      "source": [
        "result"
      ],
      "metadata": {
        "colab": {
          "base_uri": "https://localhost:8080/"
        },
        "id": "O--8m8RQkOkR",
        "outputId": "29b373ea-6d5a-4d91-903b-b639adad9518"
      },
      "execution_count": 6,
      "outputs": [
        {
          "output_type": "execute_result",
          "data": {
            "text/plain": [
              "array([1.1, 2.2, 1.3, 1.4, 2.5])"
            ]
          },
          "metadata": {},
          "execution_count": 6
        }
      ]
    },
    {
      "cell_type": "code",
      "source": [
        "arr = np.random.randn(4,4)"
      ],
      "metadata": {
        "id": "D5jJdY0-kZvj"
      },
      "execution_count": 8,
      "outputs": []
    },
    {
      "cell_type": "code",
      "source": [
        "arr"
      ],
      "metadata": {
        "colab": {
          "base_uri": "https://localhost:8080/"
        },
        "id": "dBRg7pCQkgN2",
        "outputId": "7e6d7fe6-4944-457e-c0aa-4ed2fae009c0"
      },
      "execution_count": 9,
      "outputs": [
        {
          "output_type": "execute_result",
          "data": {
            "text/plain": [
              "array([[-1.53895393,  0.34492287,  0.32263302,  0.21348092],\n",
              "       [ 0.22070203, -2.46491232, -0.71735863, -1.36876686],\n",
              "       [ 1.75625093, -1.33927246, -0.59755066,  0.23049755],\n",
              "       [ 0.14846467,  0.0840548 ,  0.65958237, -1.21193526]])"
            ]
          },
          "metadata": {},
          "execution_count": 9
        }
      ]
    },
    {
      "cell_type": "code",
      "source": [
        "arr>0"
      ],
      "metadata": {
        "colab": {
          "base_uri": "https://localhost:8080/"
        },
        "id": "Teb1FfhJklux",
        "outputId": "ca012c5d-288a-4bd7-a104-96b576df753d"
      },
      "execution_count": 10,
      "outputs": [
        {
          "output_type": "execute_result",
          "data": {
            "text/plain": [
              "array([[False,  True,  True,  True],\n",
              "       [ True, False, False, False],\n",
              "       [ True, False, False,  True],\n",
              "       [ True,  True,  True, False]])"
            ]
          },
          "metadata": {},
          "execution_count": 10
        }
      ]
    },
    {
      "cell_type": "code",
      "source": [
        "np.where(arr>0,2,-2)"
      ],
      "metadata": {
        "colab": {
          "base_uri": "https://localhost:8080/"
        },
        "id": "ZF90BZA9k2RB",
        "outputId": "2a909380-d8d9-45e4-fb95-b8b44b7b2179"
      },
      "execution_count": 11,
      "outputs": [
        {
          "output_type": "execute_result",
          "data": {
            "text/plain": [
              "array([[-2,  2,  2,  2],\n",
              "       [ 2, -2, -2, -2],\n",
              "       [ 2, -2, -2,  2],\n",
              "       [ 2,  2,  2, -2]])"
            ]
          },
          "metadata": {},
          "execution_count": 11
        }
      ]
    },
    {
      "cell_type": "code",
      "source": [
        "np.where(arr>0,2,arr) #양수인 경우에만 2를 대입한다."
      ],
      "metadata": {
        "colab": {
          "base_uri": "https://localhost:8080/"
        },
        "id": "HMQiBW2jk1vc",
        "outputId": "05e8b5ed-0e7f-4a24-c1c0-9ec67cd1901f"
      },
      "execution_count": 12,
      "outputs": [
        {
          "output_type": "execute_result",
          "data": {
            "text/plain": [
              "array([[-1.53895393,  2.        ,  2.        ,  2.        ],\n",
              "       [ 2.        , -2.46491232, -0.71735863, -1.36876686],\n",
              "       [ 2.        , -1.33927246, -0.59755066,  2.        ],\n",
              "       [ 2.        ,  2.        ,  2.        , -1.21193526]])"
            ]
          },
          "metadata": {},
          "execution_count": 12
        }
      ]
    },
    {
      "cell_type": "code",
      "source": [
        "arr = np.random.randn(5,4)"
      ],
      "metadata": {
        "id": "RsSGx1KzlEwT"
      },
      "execution_count": 13,
      "outputs": []
    },
    {
      "cell_type": "code",
      "source": [
        "arr"
      ],
      "metadata": {
        "colab": {
          "base_uri": "https://localhost:8080/"
        },
        "id": "9eMa5oMjlY8l",
        "outputId": "593f3c99-faaf-4ebd-ce8c-f4b3d364c173"
      },
      "execution_count": 14,
      "outputs": [
        {
          "output_type": "execute_result",
          "data": {
            "text/plain": [
              "array([[-0.76506878, -0.60333909, -1.33536099, -0.62488518],\n",
              "       [-0.75095435,  0.33189534, -0.92964484, -1.34228599],\n",
              "       [-0.51011198,  0.79962208,  0.37882751,  0.23463214],\n",
              "       [-0.7060029 ,  1.1498549 , -0.81124866, -0.4676168 ],\n",
              "       [ 0.07079582, -0.11730767,  0.40018081,  1.38573515]])"
            ]
          },
          "metadata": {},
          "execution_count": 14
        }
      ]
    },
    {
      "cell_type": "code",
      "source": [
        "arr.mean()"
      ],
      "metadata": {
        "colab": {
          "base_uri": "https://localhost:8080/"
        },
        "id": "jEvuVGFZluHR",
        "outputId": "c54891c8-e7e5-444c-fa3e-bf050a47e0d9"
      },
      "execution_count": 15,
      "outputs": [
        {
          "output_type": "execute_result",
          "data": {
            "text/plain": [
              "-0.21061417473246175"
            ]
          },
          "metadata": {},
          "execution_count": 15
        }
      ]
    },
    {
      "cell_type": "code",
      "source": [
        "np.mean(arr)"
      ],
      "metadata": {
        "colab": {
          "base_uri": "https://localhost:8080/"
        },
        "id": "CZHQ8pwulx00",
        "outputId": "ad4325d5-becb-4db4-d0d4-950e84ac3ecc"
      },
      "execution_count": 16,
      "outputs": [
        {
          "output_type": "execute_result",
          "data": {
            "text/plain": [
              "-0.21061417473246175"
            ]
          },
          "metadata": {},
          "execution_count": 16
        }
      ]
    },
    {
      "cell_type": "code",
      "source": [
        "np.sum(arr)"
      ],
      "metadata": {
        "colab": {
          "base_uri": "https://localhost:8080/"
        },
        "id": "UZzJuo7-l2vt",
        "outputId": "2d127e91-acf4-49e3-8366-16eb0b3755ce"
      },
      "execution_count": 17,
      "outputs": [
        {
          "output_type": "execute_result",
          "data": {
            "text/plain": [
              "-4.212283494649235"
            ]
          },
          "metadata": {},
          "execution_count": 17
        }
      ]
    },
    {
      "cell_type": "code",
      "source": [
        "arr.mean(axis=1)"
      ],
      "metadata": {
        "colab": {
          "base_uri": "https://localhost:8080/"
        },
        "id": "g-HSb1y4mUpB",
        "outputId": "6362670f-33f2-4935-c9ea-0c6109c9b9ab"
      },
      "execution_count": 18,
      "outputs": [
        {
          "output_type": "execute_result",
          "data": {
            "text/plain": [
              "array([-0.83216351, -0.67274746,  0.22574244, -0.20875336,  0.43485103])"
            ]
          },
          "metadata": {},
          "execution_count": 18
        }
      ]
    },
    {
      "cell_type": "code",
      "source": [
        "arr.sum(axis=0)"
      ],
      "metadata": {
        "colab": {
          "base_uri": "https://localhost:8080/"
        },
        "id": "LRltNZoRmaJn",
        "outputId": "ee7e9fd8-ded7-4997-9069-61fbe86d6fa6"
      },
      "execution_count": 21,
      "outputs": [
        {
          "output_type": "execute_result",
          "data": {
            "text/plain": [
              "array([-2.66134219,  1.56072556, -2.29724618, -0.81442069])"
            ]
          },
          "metadata": {},
          "execution_count": 21
        }
      ]
    },
    {
      "cell_type": "code",
      "source": [
        "arr = np.array([0,1,2,3,4,5,6,7])"
      ],
      "metadata": {
        "id": "6-P-WeU8ngxC"
      },
      "execution_count": 23,
      "outputs": []
    },
    {
      "cell_type": "code",
      "source": [
        "arr.cumsum()"
      ],
      "metadata": {
        "colab": {
          "base_uri": "https://localhost:8080/"
        },
        "id": "7gkdC3z3oBOs",
        "outputId": "694d7185-2005-4f5a-dbd4-f9adb6c8127c"
      },
      "execution_count": 24,
      "outputs": [
        {
          "output_type": "execute_result",
          "data": {
            "text/plain": [
              "array([ 0,  1,  3,  6, 10, 15, 21, 28])"
            ]
          },
          "metadata": {},
          "execution_count": 24
        }
      ]
    },
    {
      "cell_type": "code",
      "source": [
        "arr = np.array([[0,1,2],[3,4,5],[6,7,8]])"
      ],
      "metadata": {
        "id": "CIy7siGfoIFb"
      },
      "execution_count": 25,
      "outputs": []
    },
    {
      "cell_type": "code",
      "source": [
        "arr"
      ],
      "metadata": {
        "colab": {
          "base_uri": "https://localhost:8080/"
        },
        "id": "_R18yPEpoTr7",
        "outputId": "6d059b27-568d-4578-993e-84c97d9d6246"
      },
      "execution_count": 26,
      "outputs": [
        {
          "output_type": "execute_result",
          "data": {
            "text/plain": [
              "array([[0, 1, 2],\n",
              "       [3, 4, 5],\n",
              "       [6, 7, 8]])"
            ]
          },
          "metadata": {},
          "execution_count": 26
        }
      ]
    },
    {
      "cell_type": "code",
      "source": [
        "arr.cumsum(axis=0)"
      ],
      "metadata": {
        "colab": {
          "base_uri": "https://localhost:8080/"
        },
        "id": "Crg6a9YUoWcN",
        "outputId": "52370cba-fe63-4ea9-fe2b-ab1881d55ad1"
      },
      "execution_count": 28,
      "outputs": [
        {
          "output_type": "execute_result",
          "data": {
            "text/plain": [
              "array([[ 0,  1,  2],\n",
              "       [ 3,  5,  7],\n",
              "       [ 9, 12, 15]])"
            ]
          },
          "metadata": {},
          "execution_count": 28
        }
      ]
    },
    {
      "cell_type": "code",
      "source": [
        "arr.cumprod(axis=1)"
      ],
      "metadata": {
        "colab": {
          "base_uri": "https://localhost:8080/"
        },
        "id": "Jw5548CRoce6",
        "outputId": "70a99936-0a2f-40db-de00-ed896e1f930e"
      },
      "execution_count": 29,
      "outputs": [
        {
          "output_type": "execute_result",
          "data": {
            "text/plain": [
              "array([[  0,   0,   0],\n",
              "       [  3,  12,  60],\n",
              "       [  6,  42, 336]])"
            ]
          },
          "metadata": {},
          "execution_count": 29
        }
      ]
    },
    {
      "cell_type": "code",
      "source": [
        "arr=np.random.randn(100)"
      ],
      "metadata": {
        "id": "kHqbnkj0ogde"
      },
      "execution_count": 30,
      "outputs": []
    },
    {
      "cell_type": "code",
      "source": [
        "(arr>0).sum()#양수인 원소의 개수"
      ],
      "metadata": {
        "colab": {
          "base_uri": "https://localhost:8080/"
        },
        "id": "JG2UoraaoyxZ",
        "outputId": "fed381cb-0829-49ed-90ba-d78647a63fe2"
      },
      "execution_count": 31,
      "outputs": [
        {
          "output_type": "execute_result",
          "data": {
            "text/plain": [
              "65"
            ]
          },
          "metadata": {},
          "execution_count": 31
        }
      ]
    },
    {
      "cell_type": "code",
      "source": [
        "bools = np.array([False,False,True,False])"
      ],
      "metadata": {
        "id": "8DyTTksCpHCV"
      },
      "execution_count": 33,
      "outputs": []
    },
    {
      "cell_type": "code",
      "source": [
        "bools.any()"
      ],
      "metadata": {
        "colab": {
          "base_uri": "https://localhost:8080/"
        },
        "id": "8BomCj3opU08",
        "outputId": "6af8861d-bc6e-430b-a72e-6ce1e4d149bb"
      },
      "execution_count": 34,
      "outputs": [
        {
          "output_type": "execute_result",
          "data": {
            "text/plain": [
              "True"
            ]
          },
          "metadata": {},
          "execution_count": 34
        }
      ]
    },
    {
      "cell_type": "code",
      "source": [
        "bools.all()"
      ],
      "metadata": {
        "colab": {
          "base_uri": "https://localhost:8080/"
        },
        "id": "XAameboepZeC",
        "outputId": "14674364-0421-4a66-c52e-a9231e327cb1"
      },
      "execution_count": 35,
      "outputs": [
        {
          "output_type": "execute_result",
          "data": {
            "text/plain": [
              "False"
            ]
          },
          "metadata": {},
          "execution_count": 35
        }
      ]
    },
    {
      "cell_type": "code",
      "source": [
        "arr=np.random.randn(6)"
      ],
      "metadata": {
        "id": "1zELaHVbpmKc"
      },
      "execution_count": 36,
      "outputs": []
    },
    {
      "cell_type": "code",
      "source": [
        "arr"
      ],
      "metadata": {
        "colab": {
          "base_uri": "https://localhost:8080/"
        },
        "id": "fpK3ARGHprXc",
        "outputId": "681eb06e-9d9d-406e-c56f-b95376538b5d"
      },
      "execution_count": 37,
      "outputs": [
        {
          "output_type": "execute_result",
          "data": {
            "text/plain": [
              "array([ 0.95722383,  0.3078137 , -1.76573661,  0.42868138,  0.40444093,\n",
              "        1.16243388])"
            ]
          },
          "metadata": {},
          "execution_count": 37
        }
      ]
    },
    {
      "cell_type": "code",
      "source": [
        "arr.sort()"
      ],
      "metadata": {
        "id": "5smRtzG-ptJo"
      },
      "execution_count": 38,
      "outputs": []
    },
    {
      "cell_type": "code",
      "source": [
        "arr"
      ],
      "metadata": {
        "colab": {
          "base_uri": "https://localhost:8080/"
        },
        "id": "FvT1jljVpvtA",
        "outputId": "e0e60538-d144-4f5a-9056-dec1511c902c"
      },
      "execution_count": 39,
      "outputs": [
        {
          "output_type": "execute_result",
          "data": {
            "text/plain": [
              "array([-1.76573661,  0.3078137 ,  0.40444093,  0.42868138,  0.95722383,\n",
              "        1.16243388])"
            ]
          },
          "metadata": {},
          "execution_count": 39
        }
      ]
    },
    {
      "cell_type": "code",
      "source": [
        "arr = np.random.randn(5,3)"
      ],
      "metadata": {
        "id": "K0UHSg9up1ID"
      },
      "execution_count": 40,
      "outputs": []
    },
    {
      "cell_type": "code",
      "source": [
        "arr"
      ],
      "metadata": {
        "colab": {
          "base_uri": "https://localhost:8080/"
        },
        "id": "xvcKBQXNp7bw",
        "outputId": "304cba50-2b88-4f1d-c16a-4ece685babe3"
      },
      "execution_count": 41,
      "outputs": [
        {
          "output_type": "execute_result",
          "data": {
            "text/plain": [
              "array([[ 0.34172704,  1.29294219, -2.34692398],\n",
              "       [-0.39493274,  0.7892084 ,  0.96181577],\n",
              "       [-1.3189917 , -0.90911448, -0.32968312],\n",
              "       [ 1.28126843,  0.23578623,  0.3710769 ],\n",
              "       [ 0.70515443, -0.76480177, -1.58760836]])"
            ]
          },
          "metadata": {},
          "execution_count": 41
        }
      ]
    },
    {
      "cell_type": "code",
      "source": [
        "arr.sort(1)"
      ],
      "metadata": {
        "id": "KqTHV_gquXi2"
      },
      "execution_count": 42,
      "outputs": []
    },
    {
      "cell_type": "code",
      "source": [
        "arr"
      ],
      "metadata": {
        "colab": {
          "base_uri": "https://localhost:8080/"
        },
        "id": "yxX0-V7IufCk",
        "outputId": "b6f71400-b229-4c2d-806d-2e8cec135f24"
      },
      "execution_count": 43,
      "outputs": [
        {
          "output_type": "execute_result",
          "data": {
            "text/plain": [
              "array([[-2.34692398,  0.34172704,  1.29294219],\n",
              "       [-0.39493274,  0.7892084 ,  0.96181577],\n",
              "       [-1.3189917 , -0.90911448, -0.32968312],\n",
              "       [ 0.23578623,  0.3710769 ,  1.28126843],\n",
              "       [-1.58760836, -0.76480177,  0.70515443]])"
            ]
          },
          "metadata": {},
          "execution_count": 43
        }
      ]
    },
    {
      "cell_type": "code",
      "source": [
        "large_arr = np.random.randn(1000)"
      ],
      "metadata": {
        "id": "y4BBoBJJuhS7"
      },
      "execution_count": 44,
      "outputs": []
    },
    {
      "cell_type": "code",
      "source": [
        "large_arr.sort()"
      ],
      "metadata": {
        "id": "QYXzA4byunsh"
      },
      "execution_count": 45,
      "outputs": []
    },
    {
      "cell_type": "code",
      "source": [
        "large_arr[int(0.05*len(large_arr))]#5% 분위수"
      ],
      "metadata": {
        "colab": {
          "base_uri": "https://localhost:8080/"
        },
        "id": "SyPBRDpQusbF",
        "outputId": "3f7acb17-6518-44e5-bd7c-12dbd0d5fd0c"
      },
      "execution_count": 46,
      "outputs": [
        {
          "output_type": "execute_result",
          "data": {
            "text/plain": [
              "-1.6996408965989975"
            ]
          },
          "metadata": {},
          "execution_count": 46
        }
      ]
    },
    {
      "cell_type": "code",
      "source": [
        "arr=np.arange(10)"
      ],
      "metadata": {
        "id": "InEd42rRxGqD"
      },
      "execution_count": 48,
      "outputs": []
    },
    {
      "cell_type": "code",
      "source": [
        "np.save('some_array',arr)"
      ],
      "metadata": {
        "id": "xLo6WtFkz7OB"
      },
      "execution_count": 49,
      "outputs": []
    },
    {
      "cell_type": "code",
      "source": [
        "np.load('some_array.npy')"
      ],
      "metadata": {
        "colab": {
          "base_uri": "https://localhost:8080/"
        },
        "id": "mrwTtQc10AbN",
        "outputId": "7c287759-3a67-4ddf-c680-c8db5937a65f"
      },
      "execution_count": 50,
      "outputs": [
        {
          "output_type": "execute_result",
          "data": {
            "text/plain": [
              "array([0, 1, 2, 3, 4, 5, 6, 7, 8, 9])"
            ]
          },
          "metadata": {},
          "execution_count": 50
        }
      ]
    },
    {
      "cell_type": "code",
      "source": [
        "np.savez('array_archive.npz',a=arr,b=arr)"
      ],
      "metadata": {
        "id": "mwDCQdcT0HIG"
      },
      "execution_count": 51,
      "outputs": []
    },
    {
      "cell_type": "code",
      "source": [
        "arch = np.load('array_archive.npz')"
      ],
      "metadata": {
        "id": "MhO6gKS86rvd"
      },
      "execution_count": 53,
      "outputs": []
    },
    {
      "cell_type": "code",
      "source": [
        "arch['b']"
      ],
      "metadata": {
        "colab": {
          "base_uri": "https://localhost:8080/"
        },
        "id": "OT0HfXo462XF",
        "outputId": "e9818b6b-50d6-4ddd-9bf1-67abb8bf6744"
      },
      "execution_count": 54,
      "outputs": [
        {
          "output_type": "execute_result",
          "data": {
            "text/plain": [
              "array([0, 1, 2, 3, 4, 5, 6, 7, 8, 9])"
            ]
          },
          "metadata": {},
          "execution_count": 54
        }
      ]
    },
    {
      "cell_type": "code",
      "source": [
        "heights = np.random.normal(161.4,4,300)#평균 161.4 표준편차 4 ,표본 200개 샹성\n",
        "print(heights)\n",
        "bmis = np.random.normal(21,2,200)#평균 21,표준편차 2, 표본 200개생성\n",
        "weights = bmis*(heights**2)/10000 #키와 bmis지수를 이용하여 몸무게 200개 생성"
      ],
      "metadata": {
        "colab": {
          "base_uri": "https://localhost:8080/",
          "height": 1000
        },
        "id": "VwrfoYox65cv",
        "outputId": "e43ac37d-b0af-4e8b-abdc-55253e1d48f1"
      },
      "execution_count": 61,
      "outputs": [
        {
          "output_type": "stream",
          "name": "stdout",
          "text": [
            "[166.6893364  157.53941639 159.66460339 170.94304884 157.8104839\n",
            " 168.01950709 160.9581902  159.36537112 163.27618436 160.605722\n",
            " 158.25509285 156.05318604 160.13353565 163.59339919 161.36522813\n",
            " 167.12545212 162.24584636 154.84133737 161.39690593 160.31257788\n",
            " 165.9068599  166.04832122 163.11092579 150.67278022 160.70789666\n",
            " 159.63681341 161.13194909 165.92194358 156.26597626 162.94737534\n",
            " 162.68008863 161.92158553 164.95624797 165.67653113 156.57057324\n",
            " 157.02433225 165.36958251 161.39665978 160.2025436  158.3080638\n",
            " 166.84582692 160.95446402 156.29471075 158.81135946 158.3824149\n",
            " 165.57552979 162.29812813 157.31385843 158.19823919 161.97455448\n",
            " 157.97147478 160.87849782 166.08854003 163.66867125 160.60621539\n",
            " 160.39455579 158.22643707 162.75883207 170.1976154  165.59655251\n",
            " 163.13356734 162.13126707 163.55069712 157.23657775 155.72439372\n",
            " 160.47948404 162.80465211 161.28796784 167.36042126 159.93572141\n",
            " 159.85072561 157.66882206 159.6896803  160.32704952 159.69281819\n",
            " 153.19119439 158.91101904 166.38799007 159.32968756 159.11589278\n",
            " 161.28447558 160.96041739 160.19492333 159.28697508 155.72080523\n",
            " 162.1741238  157.46609416 160.40821794 164.37701887 160.39543536\n",
            " 161.84892013 160.47198406 158.39199601 162.80133443 164.89029938\n",
            " 167.01610229 154.41989831 152.24546312 159.17617595 159.47049537\n",
            " 165.42036723 165.45682485 158.99049509 162.78807543 159.02901294\n",
            " 166.56979767 160.8073562  151.99807124 164.65244546 159.27821647\n",
            " 162.39024952 152.35800217 165.87462761 166.25307687 158.76594037\n",
            " 161.60775931 163.58281155 166.47138555 162.38608697 156.85137383\n",
            " 158.04488803 156.65167017 172.92096011 157.23011361 156.34259612\n",
            " 157.06795264 156.46219527 161.10933099 161.47331451 162.13197136\n",
            " 162.05507828 165.49561146 159.56205073 154.71110781 165.38728348\n",
            " 161.75894473 165.60590225 165.0686291  158.39003399 165.54590065\n",
            " 166.55405417 166.75833847 163.27439974 163.29310531 162.07031745\n",
            " 169.64785302 158.80864712 157.43538382 162.63536627 156.19058811\n",
            " 171.2709794  161.85113473 164.07224148 164.07178493 161.57712757\n",
            " 159.38827579 159.21158464 163.5097954  166.68876277 163.30951123\n",
            " 167.81580846 159.94080879 162.06842519 158.32206002 151.35348132\n",
            " 160.02813797 159.28622625 158.46681388 151.35840138 164.24241594\n",
            " 166.97998807 162.28262955 164.08948611 155.59089762 160.65234538\n",
            " 164.06705326 161.03354459 160.57246072 163.44544687 161.28144711\n",
            " 163.53004562 165.38550038 158.06943183 166.39635514 163.70849224\n",
            " 159.27318793 165.36195664 162.47632905 165.98440547 159.44872513\n",
            " 166.61676539 160.33478248 159.97889473 161.51188959 162.98682709\n",
            " 154.33838866 159.96037373 154.53155065 163.97301649 166.32363893\n",
            " 161.62323092 156.91587077 158.07834291 153.44662066 164.51783967\n",
            " 157.11251652 163.52342672 160.64351944 164.41595657 166.719917\n",
            " 162.08329453 162.0031941  159.35429866 159.74240183 160.59846631\n",
            " 170.65530148 158.57808401 155.43794495 166.38773734 162.9594625\n",
            " 159.78309644 155.58086098 160.81353232 152.99156492 166.00906712\n",
            " 163.14348218 161.86133573 165.227858   165.24784519 159.43363371\n",
            " 162.51038252 166.40540311 155.94615122 158.26635058 165.18779945\n",
            " 159.42542461 162.37518199 157.81893879 158.7128662  160.79963759\n",
            " 161.56733467 163.34302205 157.54941878 158.67296448 159.69389044\n",
            " 161.4807158  161.00435262 163.6690246  162.48284812 160.33083175\n",
            " 160.39293452 164.43456231 164.47407006 159.76891045 169.34354294\n",
            " 160.80902615 172.40963488 171.14092974 168.12909709 165.51674656\n",
            " 161.88950104 158.15460686 156.72377809 156.92857335 158.52578721\n",
            " 152.01242487 152.32220327 160.12178823 162.36894024 160.93302517\n",
            " 162.03103617 160.34252044 166.3149934  161.46212164 160.65217139\n",
            " 157.37899925 156.80258126 160.78406528 164.26325706 157.22375005\n",
            " 164.57349716 159.83363294 159.95933726 163.79610743 158.39970126\n",
            " 158.97466516 164.75549879 166.84914741 157.66566116 156.17913629\n",
            " 164.77485897 158.99602096 157.3294099  166.22081926 163.09871602\n",
            " 163.8123743  159.98027318 163.59475197 162.81452767 165.15765276]\n"
          ]
        },
        {
          "output_type": "error",
          "ename": "ValueError",
          "evalue": "ignored",
          "traceback": [
            "\u001b[0;31m---------------------------------------------------------------------------\u001b[0m",
            "\u001b[0;31mValueError\u001b[0m                                Traceback (most recent call last)",
            "\u001b[0;32m<ipython-input-61-31baa5791afb>\u001b[0m in \u001b[0;36m<module>\u001b[0;34m\u001b[0m\n\u001b[1;32m      2\u001b[0m \u001b[0mprint\u001b[0m\u001b[0;34m(\u001b[0m\u001b[0mheights\u001b[0m\u001b[0;34m)\u001b[0m\u001b[0;34m\u001b[0m\u001b[0;34m\u001b[0m\u001b[0m\n\u001b[1;32m      3\u001b[0m \u001b[0mbmis\u001b[0m \u001b[0;34m=\u001b[0m \u001b[0mnp\u001b[0m\u001b[0;34m.\u001b[0m\u001b[0mrandom\u001b[0m\u001b[0;34m.\u001b[0m\u001b[0mnormal\u001b[0m\u001b[0;34m(\u001b[0m\u001b[0;36m21\u001b[0m\u001b[0;34m,\u001b[0m\u001b[0;36m2\u001b[0m\u001b[0;34m,\u001b[0m\u001b[0;36m200\u001b[0m\u001b[0;34m)\u001b[0m\u001b[0;31m#평균 21,표준편차 2, 표본 200개생성\u001b[0m\u001b[0;34m\u001b[0m\u001b[0;34m\u001b[0m\u001b[0m\n\u001b[0;32m----> 4\u001b[0;31m \u001b[0mweights\u001b[0m \u001b[0;34m=\u001b[0m \u001b[0mbmis\u001b[0m\u001b[0;34m*\u001b[0m\u001b[0;34m(\u001b[0m\u001b[0mheights\u001b[0m\u001b[0;34m**\u001b[0m\u001b[0;36m2\u001b[0m\u001b[0;34m)\u001b[0m\u001b[0;34m/\u001b[0m\u001b[0;36m10000\u001b[0m \u001b[0;31m#키와 bmis지수를 이용하여 몸무게 200개 생성\u001b[0m\u001b[0;34m\u001b[0m\u001b[0;34m\u001b[0m\u001b[0m\n\u001b[0m",
            "\u001b[0;31mValueError\u001b[0m: operands could not be broadcast together with shapes (200,) (300,) "
          ]
        }
      ]
    },
    {
      "cell_type": "code",
      "source": [
        "print('===키===')\n",
        "print(\"평균 :\",heights.mean())\n",
        "print(\"중간값 :\",np.median(heights))\n",
        "print(\"1/4분위값 :\",np.quantile(heights,0.25))\n",
        "print(\"2/4분위값 :\",np.quantile(heights,0.5))\n",
        "print(\"3/4분위값 :\",np.quantile(heights,0.75))\n"
      ],
      "metadata": {
        "colab": {
          "base_uri": "https://localhost:8080/"
        },
        "id": "zT5fLOyU7f6E",
        "outputId": "fcc94fec-0f39-40c5-baa7-22c06f7afdfd"
      },
      "execution_count": 69,
      "outputs": [
        {
          "output_type": "stream",
          "name": "stdout",
          "text": [
            "===키===\n",
            "평균 : 161.34095849516575\n",
            "중간값 : 161.1206400361189\n",
            "1/4분위값 : 158.8106813784639\n",
            "2/4분위값 : 161.1206400361189\n",
            "3/4분위값 : 164.06823617387073\n"
          ]
        }
      ]
    },
    {
      "cell_type": "code",
      "source": [
        "import pandas as pd"
      ],
      "metadata": {
        "id": "ITObZ83wLzbU"
      },
      "execution_count": 72,
      "outputs": []
    },
    {
      "cell_type": "code",
      "source": [
        "from pandas import Series, DataFrame"
      ],
      "metadata": {
        "id": "BLyYzK7OL6DC"
      },
      "execution_count": 73,
      "outputs": []
    },
    {
      "cell_type": "code",
      "source": [
        "import math\n"
      ],
      "metadata": {
        "id": "k8S9TMAlNdTd"
      },
      "execution_count": 77,
      "outputs": []
    },
    {
      "cell_type": "code",
      "source": [
        "pa = 1/2 #동전을 던져서 앞면이 나올 확률\n",
        "pb = 1/6 #주사위를 던져서 1면이 나올 확률\n",
        "pab = pa*pb\n",
        "print(pab)\n",
        "logit_pad = math.log(pa) + math.log(pb)\n",
        "inv_logit_pad = math.exp(logit_pad)\n",
        "print(inv_logit_pad)"
      ],
      "metadata": {
        "colab": {
          "base_uri": "https://localhost:8080/"
        },
        "id": "2c80hgdGKUD0",
        "outputId": "05ef183a-3e58-4e46-8c8d-6b4acdd2fdf3"
      },
      "execution_count": 78,
      "outputs": [
        {
          "output_type": "stream",
          "name": "stdout",
          "text": [
            "0.08333333333333333\n",
            "0.08333333333333333\n"
          ]
        }
      ]
    },
    {
      "cell_type": "code",
      "source": [
        "import matplotlib.pyplot as plt\n"
      ],
      "metadata": {
        "id": "GtZs2FDQNji7"
      },
      "execution_count": 79,
      "outputs": []
    },
    {
      "cell_type": "markdown",
      "source": [],
      "metadata": {
        "id": "Rf6ZsrsXO-rJ"
      }
    },
    {
      "cell_type": "code",
      "source": [
        "cnt = 0\n",
        "for _ in range(120):\n",
        "  re = ber_trial(1/6)\n",
        "  print(re,end= \"\")\n",
        "  if re == 1:\n",
        "    cnt+=1\n",
        "    print()\n",
        "    print(cnt)"
      ],
      "metadata": {
        "colab": {
          "base_uri": "https://localhost:8080/",
          "height": 251
        },
        "id": "uhKfzAi2bhfW",
        "outputId": "2128ef05-a359-4fd0-f55c-d50d6122908e"
      },
      "execution_count": 86,
      "outputs": [
        {
          "output_type": "error",
          "ename": "NameError",
          "evalue": "ignored",
          "traceback": [
            "\u001b[0;31m---------------------------------------------------------------------------\u001b[0m",
            "\u001b[0;31mNameError\u001b[0m                                 Traceback (most recent call last)",
            "\u001b[0;32m<ipython-input-86-23f2f870989f>\u001b[0m in \u001b[0;36m<module>\u001b[0;34m\u001b[0m\n\u001b[1;32m      1\u001b[0m \u001b[0mcnt\u001b[0m \u001b[0;34m=\u001b[0m \u001b[0;36m0\u001b[0m\u001b[0;34m\u001b[0m\u001b[0;34m\u001b[0m\u001b[0m\n\u001b[1;32m      2\u001b[0m \u001b[0;32mfor\u001b[0m \u001b[0m_\u001b[0m \u001b[0;32min\u001b[0m \u001b[0mrange\u001b[0m\u001b[0;34m(\u001b[0m\u001b[0;36m120\u001b[0m\u001b[0;34m)\u001b[0m\u001b[0;34m:\u001b[0m\u001b[0;34m\u001b[0m\u001b[0;34m\u001b[0m\u001b[0m\n\u001b[0;32m----> 3\u001b[0;31m   \u001b[0mre\u001b[0m \u001b[0;34m=\u001b[0m \u001b[0mber_trial\u001b[0m\u001b[0;34m.\u001b[0m\u001b[0mappend\u001b[0m\u001b[0;34m(\u001b[0m\u001b[0;36m1\u001b[0m\u001b[0;34m/\u001b[0m\u001b[0;36m6\u001b[0m\u001b[0;34m)\u001b[0m\u001b[0;34m\u001b[0m\u001b[0;34m\u001b[0m\u001b[0m\n\u001b[0m\u001b[1;32m      4\u001b[0m   \u001b[0mprint\u001b[0m\u001b[0;34m(\u001b[0m\u001b[0mre\u001b[0m\u001b[0;34m,\u001b[0m\u001b[0mend\u001b[0m\u001b[0;34m=\u001b[0m \u001b[0;34m\"\"\u001b[0m\u001b[0;34m)\u001b[0m\u001b[0;34m\u001b[0m\u001b[0;34m\u001b[0m\u001b[0m\n\u001b[1;32m      5\u001b[0m   \u001b[0;32mif\u001b[0m \u001b[0mre\u001b[0m \u001b[0;34m==\u001b[0m \u001b[0;36m1\u001b[0m\u001b[0;34m:\u001b[0m\u001b[0;34m\u001b[0m\u001b[0;34m\u001b[0m\u001b[0m\n",
            "\u001b[0;31mNameError\u001b[0m: name 'ber_trial' is not defined"
          ]
        }
      ]
    }
  ]
}