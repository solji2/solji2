{
  "nbformat": 4,
  "nbformat_minor": 0,
  "metadata": {
    "colab": {
      "provenance": [],
      "collapsed_sections": [],
      "authorship_tag": "ABX9TyO2mULa/hQK/DlNXPC8FqFt",
      "include_colab_link": true
    },
    "kernelspec": {
      "name": "python3",
      "display_name": "Python 3"
    },
    "language_info": {
      "name": "python"
    }
  },
  "cells": [
    {
      "cell_type": "markdown",
      "metadata": {
        "id": "view-in-github",
        "colab_type": "text"
      },
      "source": [
        "<a href=\"https://colab.research.google.com/github/solji2/solji2/blob/master/Untitled0.ipynb\" target=\"_parent\"><img src=\"https://colab.research.google.com/assets/colab-badge.svg\" alt=\"Open In Colab\"/></a>"
      ]
    },
    {
      "cell_type": "code",
      "execution_count": 1,
      "metadata": {
        "colab": {
          "base_uri": "https://localhost:8080/"
        },
        "id": "9M7G8mZhe8Hz",
        "outputId": "55e1f298-2e88-4b0c-a1ca-0934442e9578"
      },
      "outputs": [
        {
          "output_type": "stream",
          "name": "stdout",
          "text": [
            "[7, 16, 27, 40, 55, 72, 91, 112, 135]\n"
          ]
        }
      ],
      "source": [
        "xs = [x*x+2*x*3 for x in range(1,10)]#리스트 텀프리헨션\n",
        "print(xs)"
      ]
    },
    {
      "cell_type": "code",
      "source": [
        "import numpy as np"
      ],
      "metadata": {
        "id": "XkEUVMY4j4KB"
      },
      "execution_count": 3,
      "outputs": []
    },
    {
      "cell_type": "code",
      "source": [
        "xarr = np.array([1.1,1.2,1.3,1.4,1.5])\n",
        "yarr = np.array([2.1,2.2,2.3,2.4,2.5])\n",
        "cond = np.array([True,False,True,True,False])"
      ],
      "metadata": {
        "id": "2qg4Plw4ilJl"
      },
      "execution_count": 4,
      "outputs": []
    },
    {
      "cell_type": "code",
      "source": [
        "result = np.where(cond,xarr,yarr)"
      ],
      "metadata": {
        "id": "3FElH0kbj83t"
      },
      "execution_count": 5,
      "outputs": []
    },
    {
      "cell_type": "code",
      "source": [
        "result"
      ],
      "metadata": {
        "colab": {
          "base_uri": "https://localhost:8080/"
        },
        "id": "O--8m8RQkOkR",
        "outputId": "29b373ea-6d5a-4d91-903b-b639adad9518"
      },
      "execution_count": 6,
      "outputs": [
        {
          "output_type": "execute_result",
          "data": {
            "text/plain": [
              "array([1.1, 2.2, 1.3, 1.4, 2.5])"
            ]
          },
          "metadata": {},
          "execution_count": 6
        }
      ]
    },
    {
      "cell_type": "code",
      "source": [
        "arr = np.random.randn(4,4)"
      ],
      "metadata": {
        "id": "D5jJdY0-kZvj"
      },
      "execution_count": 8,
      "outputs": []
    },
    {
      "cell_type": "code",
      "source": [
        "arr"
      ],
      "metadata": {
        "colab": {
          "base_uri": "https://localhost:8080/"
        },
        "id": "dBRg7pCQkgN2",
        "outputId": "7e6d7fe6-4944-457e-c0aa-4ed2fae009c0"
      },
      "execution_count": 9,
      "outputs": [
        {
          "output_type": "execute_result",
          "data": {
            "text/plain": [
              "array([[-1.53895393,  0.34492287,  0.32263302,  0.21348092],\n",
              "       [ 0.22070203, -2.46491232, -0.71735863, -1.36876686],\n",
              "       [ 1.75625093, -1.33927246, -0.59755066,  0.23049755],\n",
              "       [ 0.14846467,  0.0840548 ,  0.65958237, -1.21193526]])"
            ]
          },
          "metadata": {},
          "execution_count": 9
        }
      ]
    },
    {
      "cell_type": "code",
      "source": [
        "arr>0"
      ],
      "metadata": {
        "colab": {
          "base_uri": "https://localhost:8080/"
        },
        "id": "Teb1FfhJklux",
        "outputId": "ca012c5d-288a-4bd7-a104-96b576df753d"
      },
      "execution_count": 10,
      "outputs": [
        {
          "output_type": "execute_result",
          "data": {
            "text/plain": [
              "array([[False,  True,  True,  True],\n",
              "       [ True, False, False, False],\n",
              "       [ True, False, False,  True],\n",
              "       [ True,  True,  True, False]])"
            ]
          },
          "metadata": {},
          "execution_count": 10
        }
      ]
    },
    {
      "cell_type": "code",
      "source": [
        "np.where(arr>0,2,-2)"
      ],
      "metadata": {
        "colab": {
          "base_uri": "https://localhost:8080/"
        },
        "id": "ZF90BZA9k2RB",
        "outputId": "2a909380-d8d9-45e4-fb95-b8b44b7b2179"
      },
      "execution_count": 11,
      "outputs": [
        {
          "output_type": "execute_result",
          "data": {
            "text/plain": [
              "array([[-2,  2,  2,  2],\n",
              "       [ 2, -2, -2, -2],\n",
              "       [ 2, -2, -2,  2],\n",
              "       [ 2,  2,  2, -2]])"
            ]
          },
          "metadata": {},
          "execution_count": 11
        }
      ]
    },
    {
      "cell_type": "code",
      "source": [
        "np.where(arr>0,2,arr) #양수인 경우에만 2를 대입한다."
      ],
      "metadata": {
        "colab": {
          "base_uri": "https://localhost:8080/"
        },
        "id": "HMQiBW2jk1vc",
        "outputId": "05e8b5ed-0e7f-4a24-c1c0-9ec67cd1901f"
      },
      "execution_count": 12,
      "outputs": [
        {
          "output_type": "execute_result",
          "data": {
            "text/plain": [
              "array([[-1.53895393,  2.        ,  2.        ,  2.        ],\n",
              "       [ 2.        , -2.46491232, -0.71735863, -1.36876686],\n",
              "       [ 2.        , -1.33927246, -0.59755066,  2.        ],\n",
              "       [ 2.        ,  2.        ,  2.        , -1.21193526]])"
            ]
          },
          "metadata": {},
          "execution_count": 12
        }
      ]
    },
    {
      "cell_type": "code",
      "source": [
        "arr = np.random.randn(5,4)"
      ],
      "metadata": {
        "id": "RsSGx1KzlEwT"
      },
      "execution_count": 13,
      "outputs": []
    },
    {
      "cell_type": "code",
      "source": [
        "arr"
      ],
      "metadata": {
        "colab": {
          "base_uri": "https://localhost:8080/"
        },
        "id": "9eMa5oMjlY8l",
        "outputId": "593f3c99-faaf-4ebd-ce8c-f4b3d364c173"
      },
      "execution_count": 14,
      "outputs": [
        {
          "output_type": "execute_result",
          "data": {
            "text/plain": [
              "array([[-0.76506878, -0.60333909, -1.33536099, -0.62488518],\n",
              "       [-0.75095435,  0.33189534, -0.92964484, -1.34228599],\n",
              "       [-0.51011198,  0.79962208,  0.37882751,  0.23463214],\n",
              "       [-0.7060029 ,  1.1498549 , -0.81124866, -0.4676168 ],\n",
              "       [ 0.07079582, -0.11730767,  0.40018081,  1.38573515]])"
            ]
          },
          "metadata": {},
          "execution_count": 14
        }
      ]
    },
    {
      "cell_type": "code",
      "source": [
        "arr.mean()"
      ],
      "metadata": {
        "colab": {
          "base_uri": "https://localhost:8080/"
        },
        "id": "jEvuVGFZluHR",
        "outputId": "c54891c8-e7e5-444c-fa3e-bf050a47e0d9"
      },
      "execution_count": 15,
      "outputs": [
        {
          "output_type": "execute_result",
          "data": {
            "text/plain": [
              "-0.21061417473246175"
            ]
          },
          "metadata": {},
          "execution_count": 15
        }
      ]
    },
    {
      "cell_type": "code",
      "source": [
        "np.mean(arr)"
      ],
      "metadata": {
        "colab": {
          "base_uri": "https://localhost:8080/"
        },
        "id": "CZHQ8pwulx00",
        "outputId": "ad4325d5-becb-4db4-d0d4-950e84ac3ecc"
      },
      "execution_count": 16,
      "outputs": [
        {
          "output_type": "execute_result",
          "data": {
            "text/plain": [
              "-0.21061417473246175"
            ]
          },
          "metadata": {},
          "execution_count": 16
        }
      ]
    },
    {
      "cell_type": "code",
      "source": [
        "np.sum(arr)"
      ],
      "metadata": {
        "colab": {
          "base_uri": "https://localhost:8080/"
        },
        "id": "UZzJuo7-l2vt",
        "outputId": "2d127e91-acf4-49e3-8366-16eb0b3755ce"
      },
      "execution_count": 17,
      "outputs": [
        {
          "output_type": "execute_result",
          "data": {
            "text/plain": [
              "-4.212283494649235"
            ]
          },
          "metadata": {},
          "execution_count": 17
        }
      ]
    },
    {
      "cell_type": "code",
      "source": [
        "arr.mean(axis=1)"
      ],
      "metadata": {
        "colab": {
          "base_uri": "https://localhost:8080/"
        },
        "id": "g-HSb1y4mUpB",
        "outputId": "6362670f-33f2-4935-c9ea-0c6109c9b9ab"
      },
      "execution_count": 18,
      "outputs": [
        {
          "output_type": "execute_result",
          "data": {
            "text/plain": [
              "array([-0.83216351, -0.67274746,  0.22574244, -0.20875336,  0.43485103])"
            ]
          },
          "metadata": {},
          "execution_count": 18
        }
      ]
    },
    {
      "cell_type": "code",
      "source": [
        "arr.sum(axis=0)"
      ],
      "metadata": {
        "colab": {
          "base_uri": "https://localhost:8080/"
        },
        "id": "LRltNZoRmaJn",
        "outputId": "ee7e9fd8-ded7-4997-9069-61fbe86d6fa6"
      },
      "execution_count": 21,
      "outputs": [
        {
          "output_type": "execute_result",
          "data": {
            "text/plain": [
              "array([-2.66134219,  1.56072556, -2.29724618, -0.81442069])"
            ]
          },
          "metadata": {},
          "execution_count": 21
        }
      ]
    },
    {
      "cell_type": "code",
      "source": [
        "arr = np.array([0,1,2,3,4,5,6,7])"
      ],
      "metadata": {
        "id": "6-P-WeU8ngxC"
      },
      "execution_count": 23,
      "outputs": []
    },
    {
      "cell_type": "code",
      "source": [
        "arr.cumsum()"
      ],
      "metadata": {
        "colab": {
          "base_uri": "https://localhost:8080/"
        },
        "id": "7gkdC3z3oBOs",
        "outputId": "694d7185-2005-4f5a-dbd4-f9adb6c8127c"
      },
      "execution_count": 24,
      "outputs": [
        {
          "output_type": "execute_result",
          "data": {
            "text/plain": [
              "array([ 0,  1,  3,  6, 10, 15, 21, 28])"
            ]
          },
          "metadata": {},
          "execution_count": 24
        }
      ]
    },
    {
      "cell_type": "code",
      "source": [
        "arr = np.array([[0,1,2],[3,4,5],[6,7,8]])"
      ],
      "metadata": {
        "id": "CIy7siGfoIFb"
      },
      "execution_count": 25,
      "outputs": []
    },
    {
      "cell_type": "code",
      "source": [
        "arr"
      ],
      "metadata": {
        "colab": {
          "base_uri": "https://localhost:8080/"
        },
        "id": "_R18yPEpoTr7",
        "outputId": "6d059b27-568d-4578-993e-84c97d9d6246"
      },
      "execution_count": 26,
      "outputs": [
        {
          "output_type": "execute_result",
          "data": {
            "text/plain": [
              "array([[0, 1, 2],\n",
              "       [3, 4, 5],\n",
              "       [6, 7, 8]])"
            ]
          },
          "metadata": {},
          "execution_count": 26
        }
      ]
    },
    {
      "cell_type": "code",
      "source": [
        "arr.cumsum(axis=0)"
      ],
      "metadata": {
        "colab": {
          "base_uri": "https://localhost:8080/"
        },
        "id": "Crg6a9YUoWcN",
        "outputId": "52370cba-fe63-4ea9-fe2b-ab1881d55ad1"
      },
      "execution_count": 28,
      "outputs": [
        {
          "output_type": "execute_result",
          "data": {
            "text/plain": [
              "array([[ 0,  1,  2],\n",
              "       [ 3,  5,  7],\n",
              "       [ 9, 12, 15]])"
            ]
          },
          "metadata": {},
          "execution_count": 28
        }
      ]
    },
    {
      "cell_type": "code",
      "source": [
        "arr.cumprod(axis=1)"
      ],
      "metadata": {
        "colab": {
          "base_uri": "https://localhost:8080/"
        },
        "id": "Jw5548CRoce6",
        "outputId": "70a99936-0a2f-40db-de00-ed896e1f930e"
      },
      "execution_count": 29,
      "outputs": [
        {
          "output_type": "execute_result",
          "data": {
            "text/plain": [
              "array([[  0,   0,   0],\n",
              "       [  3,  12,  60],\n",
              "       [  6,  42, 336]])"
            ]
          },
          "metadata": {},
          "execution_count": 29
        }
      ]
    },
    {
      "cell_type": "code",
      "source": [
        "arr=np.random.randn(100)"
      ],
      "metadata": {
        "id": "kHqbnkj0ogde"
      },
      "execution_count": 30,
      "outputs": []
    },
    {
      "cell_type": "code",
      "source": [
        "(arr>0).sum()#양수인 원소의 개수"
      ],
      "metadata": {
        "colab": {
          "base_uri": "https://localhost:8080/"
        },
        "id": "JG2UoraaoyxZ",
        "outputId": "fed381cb-0829-49ed-90ba-d78647a63fe2"
      },
      "execution_count": 31,
      "outputs": [
        {
          "output_type": "execute_result",
          "data": {
            "text/plain": [
              "65"
            ]
          },
          "metadata": {},
          "execution_count": 31
        }
      ]
    },
    {
      "cell_type": "code",
      "source": [
        "bools = np.array([False,False,True,False])"
      ],
      "metadata": {
        "id": "8DyTTksCpHCV"
      },
      "execution_count": 33,
      "outputs": []
    },
    {
      "cell_type": "code",
      "source": [
        "bools.any()"
      ],
      "metadata": {
        "colab": {
          "base_uri": "https://localhost:8080/"
        },
        "id": "8BomCj3opU08",
        "outputId": "6af8861d-bc6e-430b-a72e-6ce1e4d149bb"
      },
      "execution_count": 34,
      "outputs": [
        {
          "output_type": "execute_result",
          "data": {
            "text/plain": [
              "True"
            ]
          },
          "metadata": {},
          "execution_count": 34
        }
      ]
    },
    {
      "cell_type": "code",
      "source": [
        "bools.all()"
      ],
      "metadata": {
        "colab": {
          "base_uri": "https://localhost:8080/"
        },
        "id": "XAameboepZeC",
        "outputId": "14674364-0421-4a66-c52e-a9231e327cb1"
      },
      "execution_count": 35,
      "outputs": [
        {
          "output_type": "execute_result",
          "data": {
            "text/plain": [
              "False"
            ]
          },
          "metadata": {},
          "execution_count": 35
        }
      ]
    },
    {
      "cell_type": "code",
      "source": [
        "arr=np.random.randn(6)"
      ],
      "metadata": {
        "id": "1zELaHVbpmKc"
      },
      "execution_count": 36,
      "outputs": []
    },
    {
      "cell_type": "code",
      "source": [
        "arr"
      ],
      "metadata": {
        "colab": {
          "base_uri": "https://localhost:8080/"
        },
        "id": "fpK3ARGHprXc",
        "outputId": "681eb06e-9d9d-406e-c56f-b95376538b5d"
      },
      "execution_count": 37,
      "outputs": [
        {
          "output_type": "execute_result",
          "data": {
            "text/plain": [
              "array([ 0.95722383,  0.3078137 , -1.76573661,  0.42868138,  0.40444093,\n",
              "        1.16243388])"
            ]
          },
          "metadata": {},
          "execution_count": 37
        }
      ]
    },
    {
      "cell_type": "code",
      "source": [
        "arr.sort()"
      ],
      "metadata": {
        "id": "5smRtzG-ptJo"
      },
      "execution_count": 38,
      "outputs": []
    },
    {
      "cell_type": "code",
      "source": [
        "arr"
      ],
      "metadata": {
        "colab": {
          "base_uri": "https://localhost:8080/"
        },
        "id": "FvT1jljVpvtA",
        "outputId": "e0e60538-d144-4f5a-9056-dec1511c902c"
      },
      "execution_count": 39,
      "outputs": [
        {
          "output_type": "execute_result",
          "data": {
            "text/plain": [
              "array([-1.76573661,  0.3078137 ,  0.40444093,  0.42868138,  0.95722383,\n",
              "        1.16243388])"
            ]
          },
          "metadata": {},
          "execution_count": 39
        }
      ]
    },
    {
      "cell_type": "code",
      "source": [
        "arr = np.random.randn(5,3)"
      ],
      "metadata": {
        "id": "K0UHSg9up1ID"
      },
      "execution_count": 40,
      "outputs": []
    },
    {
      "cell_type": "code",
      "source": [
        "arr"
      ],
      "metadata": {
        "colab": {
          "base_uri": "https://localhost:8080/"
        },
        "id": "xvcKBQXNp7bw",
        "outputId": "304cba50-2b88-4f1d-c16a-4ece685babe3"
      },
      "execution_count": 41,
      "outputs": [
        {
          "output_type": "execute_result",
          "data": {
            "text/plain": [
              "array([[ 0.34172704,  1.29294219, -2.34692398],\n",
              "       [-0.39493274,  0.7892084 ,  0.96181577],\n",
              "       [-1.3189917 , -0.90911448, -0.32968312],\n",
              "       [ 1.28126843,  0.23578623,  0.3710769 ],\n",
              "       [ 0.70515443, -0.76480177, -1.58760836]])"
            ]
          },
          "metadata": {},
          "execution_count": 41
        }
      ]
    },
    {
      "cell_type": "code",
      "source": [
        "arr.sort(1)"
      ],
      "metadata": {
        "id": "KqTHV_gquXi2"
      },
      "execution_count": 42,
      "outputs": []
    },
    {
      "cell_type": "code",
      "source": [
        "arr"
      ],
      "metadata": {
        "colab": {
          "base_uri": "https://localhost:8080/"
        },
        "id": "yxX0-V7IufCk",
        "outputId": "b6f71400-b229-4c2d-806d-2e8cec135f24"
      },
      "execution_count": 43,
      "outputs": [
        {
          "output_type": "execute_result",
          "data": {
            "text/plain": [
              "array([[-2.34692398,  0.34172704,  1.29294219],\n",
              "       [-0.39493274,  0.7892084 ,  0.96181577],\n",
              "       [-1.3189917 , -0.90911448, -0.32968312],\n",
              "       [ 0.23578623,  0.3710769 ,  1.28126843],\n",
              "       [-1.58760836, -0.76480177,  0.70515443]])"
            ]
          },
          "metadata": {},
          "execution_count": 43
        }
      ]
    },
    {
      "cell_type": "code",
      "source": [
        "large_arr = np.random.randn(1000)"
      ],
      "metadata": {
        "id": "y4BBoBJJuhS7"
      },
      "execution_count": 44,
      "outputs": []
    },
    {
      "cell_type": "code",
      "source": [
        "large_arr.sort()"
      ],
      "metadata": {
        "id": "QYXzA4byunsh"
      },
      "execution_count": 45,
      "outputs": []
    },
    {
      "cell_type": "code",
      "source": [
        "large_arr[int(0.05*len(large_arr))]#5% 분위수"
      ],
      "metadata": {
        "colab": {
          "base_uri": "https://localhost:8080/"
        },
        "id": "SyPBRDpQusbF",
        "outputId": "3f7acb17-6518-44e5-bd7c-12dbd0d5fd0c"
      },
      "execution_count": 46,
      "outputs": [
        {
          "output_type": "execute_result",
          "data": {
            "text/plain": [
              "-1.6996408965989975"
            ]
          },
          "metadata": {},
          "execution_count": 46
        }
      ]
    },
    {
      "cell_type": "code",
      "source": [
        "arr=np.arange(10)"
      ],
      "metadata": {
        "id": "InEd42rRxGqD"
      },
      "execution_count": 48,
      "outputs": []
    },
    {
      "cell_type": "code",
      "source": [
        "np.save('some_array',arr)"
      ],
      "metadata": {
        "id": "xLo6WtFkz7OB"
      },
      "execution_count": 49,
      "outputs": []
    },
    {
      "cell_type": "code",
      "source": [
        "np.load('some_array.npy')"
      ],
      "metadata": {
        "colab": {
          "base_uri": "https://localhost:8080/"
        },
        "id": "mrwTtQc10AbN",
        "outputId": "7c287759-3a67-4ddf-c680-c8db5937a65f"
      },
      "execution_count": 50,
      "outputs": [
        {
          "output_type": "execute_result",
          "data": {
            "text/plain": [
              "array([0, 1, 2, 3, 4, 5, 6, 7, 8, 9])"
            ]
          },
          "metadata": {},
          "execution_count": 50
        }
      ]
    },
    {
      "cell_type": "code",
      "source": [
        "np.savez('array_archive.npz',a=arr,b=arr)"
      ],
      "metadata": {
        "id": "mwDCQdcT0HIG"
      },
      "execution_count": 51,
      "outputs": []
    }
  ]
}